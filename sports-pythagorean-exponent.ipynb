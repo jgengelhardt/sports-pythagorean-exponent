{
 "cells": [
  {
   "cell_type": "code",
   "execution_count": 1,
   "metadata": {},
   "outputs": [
    {
     "name": "stdout",
     "output_type": "stream",
     "text": [
      "0.637\n"
     ]
    }
   ],
   "source": [
    "import math\n",
    "\n",
    "# pythagorean theorem of baseball in Wolfram Language: Reduce[w == s^x/(a^x + s^x), {x}]\n",
    "\n",
    "def find_pyth_exponent(win_pct,scored,against):\n",
    "    # solve for x where win_pct = (scored^x)/(scored^x + against^x)\n",
    "    # scored = points for\n",
    "    # against = points against (for opponents)\n",
    "    x = math.log(1/win_pct - 1)/(math.log(against) - math.log(scored))\n",
    "    return round(x.real,3)\n",
    "\n",
    "wins = 14.0/23.0\n",
    "print(find_pyth_exponent(wins,44,22))"
   ]
  }
 ],
 "metadata": {
  "kernelspec": {
   "display_name": "Python 3",
   "language": "python",
   "name": "python3"
  },
  "language_info": {
   "codemirror_mode": {
    "name": "ipython",
    "version": 3
   },
   "file_extension": ".py",
   "mimetype": "text/x-python",
   "name": "python",
   "nbconvert_exporter": "python",
   "pygments_lexer": "ipython3",
   "version": "3.9.0"
  }
 },
 "nbformat": 4,
 "nbformat_minor": 4
}
